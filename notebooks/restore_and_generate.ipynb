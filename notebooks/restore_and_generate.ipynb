{
 "cells": [
  {
   "cell_type": "code",
   "execution_count": 49,
   "metadata": {
    "executionInfo": {
     "elapsed": 1307,
     "status": "ok",
     "timestamp": 1614513358504,
     "user": {
      "displayName": "Hrithick Sen",
      "photoUrl": "https://lh3.googleusercontent.com/a-/AOh14GgO78BmvvsC2GTIr5ugt5XInIF8BznhPlK_oUBbrw=s64",
      "userId": "12060653308348734828"
     },
     "user_tz": -330
    },
    "id": "O2noETUgLHNY"
   },
   "outputs": [],
   "source": [
    "import os\n",
    "import numpy as np\n",
    "import matplotlib.pyplot as plt\n",
    "import tensorflow.compat.v1 as tf"
   ]
  },
  {
   "cell_type": "code",
   "execution_count": 50,
   "metadata": {
    "executionInfo": {
     "elapsed": 4678,
     "status": "ok",
     "timestamp": 1614513362237,
     "user": {
      "displayName": "Hrithick Sen",
      "photoUrl": "https://lh3.googleusercontent.com/a-/AOh14GgO78BmvvsC2GTIr5ugt5XInIF8BznhPlK_oUBbrw=s64",
      "userId": "12060653308348734828"
     },
     "user_tz": -330
    },
    "id": "SRROlCtuYj0V"
   },
   "outputs": [],
   "source": [
    "# disabeling the eager execution\n",
    "tf.disable_eager_execution()"
   ]
  },
  {
   "cell_type": "code",
   "execution_count": 52,
   "metadata": {
    "executionInfo": {
     "elapsed": 5685,
     "status": "ok",
     "timestamp": 1614513365078,
     "user": {
      "displayName": "Hrithick Sen",
      "photoUrl": "https://lh3.googleusercontent.com/a-/AOh14GgO78BmvvsC2GTIr5ugt5XInIF8BznhPlK_oUBbrw=s64",
      "userId": "12060653308348734828"
     },
     "user_tz": -330
    },
    "id": "ieIdu_3xLUfM"
   },
   "outputs": [],
   "source": [
    "# hyperparams\n",
    "image_height = 64\n",
    "image_width = 64\n",
    "image_channels = 3\n",
    "\n",
    "noise_dim = 100\n",
    "# Loading the model which was trained for 150 epochs\n",
    "load_path = f\"/home/ricky/Desktop/Face Generation/models/FaceGan_150epc\""
   ]
  },
  {
   "cell_type": "code",
   "execution_count": 53,
   "metadata": {
    "executionInfo": {
     "elapsed": 1383,
     "status": "ok",
     "timestamp": 1614513366786,
     "user": {
      "displayName": "Hrithick Sen",
      "photoUrl": "https://lh3.googleusercontent.com/a-/AOh14GgO78BmvvsC2GTIr5ugt5XInIF8BznhPlK_oUBbrw=s64",
      "userId": "12060653308348734828"
     },
     "user_tz": -330
    },
    "id": "ELDFKQKE5YQT"
   },
   "outputs": [],
   "source": [
    "def generator(noise, reuse = None):\n",
    "       \n",
    "  \"\"\"\n",
    "  A 100 dimensional uniform distribution Z is projected to a small spatial extent convolutional representation with many feature maps.\n",
    "  A series of four fractionally-strided convolutions (in some recent papers, these are wrongly called\n",
    "  deconvolutions) then convert this high level representation into a 64 × 64 pixel image. \n",
    "  \"\"\"\n",
    "\n",
    "  with tf.variable_scope(\"generator_model\", reuse=reuse):\n",
    "\n",
    "    weight_init = tf.glorot_normal_initializer()\n",
    "\n",
    "    \n",
    "    # shape = (BATCH_SIZE, 16384)\n",
    "    hidden_1 = tf.layers.dense(inputs = noise,\n",
    "                                units = 1024*4*4,\n",
    "                                kernel_initializer = weight_init,\n",
    "                                use_bias = False,\n",
    "                                )\n",
    "    hidden_1 = tf.layers.batch_normalization(hidden_1, axis = -1)\n",
    "    hidden_1 = tf.nn.relu(hidden_1)\n",
    "\n",
    "    #shape = (BATCH_SIZE, 4, 4, 1024)\n",
    "    hidden_2 = tf.reshape(hidden_1, shape = [-1, 4, 4, 1024])\n",
    "\n",
    "    # shape = (BATCH_SIZE, 8, 8, 512)\n",
    "    hidden_3 = tf.layers.conv2d_transpose(inputs = hidden_2, \n",
    "                                          filters = 512,\n",
    "                                          kernel_size = 5,\n",
    "                                          strides = 2,\n",
    "                                          kernel_initializer = weight_init,\n",
    "                                          use_bias = False,\n",
    "                                          padding = \"same\"\n",
    "                                          )\n",
    "    hidden_3 = tf.layers.batch_normalization(hidden_3, axis = -1)\n",
    "    hidden_3 = tf.nn.relu(hidden_3)\n",
    "    \n",
    "    # shape = (BATCH_SIZE, 16, 16, 256)\n",
    "    hidden_4 = tf.layers.conv2d_transpose(inputs = hidden_3, \n",
    "                                          filters = 256,\n",
    "                                          kernel_size = 5,\n",
    "                                          strides = 2,\n",
    "                                          kernel_initializer = weight_init,\n",
    "                                          use_bias = False,\n",
    "                                          padding = \"same\",\n",
    "                                          )\n",
    "    hidden_4 = tf.layers.batch_normalization(hidden_4, axis = -1)\n",
    "    hidden_4 = tf.nn.relu(hidden_4)\n",
    "     \n",
    "    # shape = (BATCH_SIZE, 32, 32, 128)\n",
    "    hidden_5 = tf.layers.conv2d_transpose(inputs = hidden_4, \n",
    "                                          filters = 128,\n",
    "                                          kernel_size = 5,\n",
    "                                          strides = 2,\n",
    "                                          kernel_initializer = weight_init,\n",
    "                                          use_bias = False,\n",
    "                                          padding = \"same\",\n",
    "                                          )\n",
    "    hidden_5 = tf.layers.batch_normalization(hidden_5, axis = -1)\n",
    "    hidden_5 = tf.nn.relu(hidden_5)\n",
    "\n",
    "    # shape = (BATCH_SIZE, 64, 64, 3)\n",
    "    op =  tf.layers.conv2d_transpose(inputs = hidden_5, \n",
    "                                      filters = 3,\n",
    "                                      kernel_size = 5,\n",
    "                                      strides = 2,\n",
    "                                      kernel_initializer = weight_init,\n",
    "                                      use_bias = False,\n",
    "                                      activation = tf.nn.tanh,\n",
    "                                      padding = \"same\",\n",
    "                                      )\n",
    "    return op"
   ]
  },
  {
   "cell_type": "code",
   "execution_count": 54,
   "metadata": {
    "colab": {
     "base_uri": "https://localhost:8080/"
    },
    "executionInfo": {
     "elapsed": 1129,
     "status": "ok",
     "timestamp": 1614513366790,
     "user": {
      "displayName": "Hrithick Sen",
      "photoUrl": "https://lh3.googleusercontent.com/a-/AOh14GgO78BmvvsC2GTIr5ugt5XInIF8BznhPlK_oUBbrw=s64",
      "userId": "12060653308348734828"
     },
     "user_tz": -330
    },
    "id": "2HflzH-QKEBg",
    "outputId": "266c2a2e-c189-43ff-c209-89eaf940cf53"
   },
   "outputs": [
    {
     "name": "stderr",
     "output_type": "stream",
     "text": [
      "/usr/local/lib/python3.7/dist-packages/tensorflow/python/keras/legacy_tf_layers/core.py:171: UserWarning: `tf.layers.dense` is deprecated and will be removed in a future version. Please use `tf.keras.layers.Dense` instead.\n",
      "  warnings.warn('`tf.layers.dense` is deprecated and '\n",
      "/usr/local/lib/python3.7/dist-packages/tensorflow/python/keras/engine/base_layer_v1.py:1719: UserWarning: `layer.apply` is deprecated and will be removed in a future version. Please use `layer.__call__` method instead.\n",
      "  warnings.warn('`layer.apply` is deprecated and '\n",
      "/usr/local/lib/python3.7/dist-packages/tensorflow/python/keras/legacy_tf_layers/normalization.py:308: UserWarning: `tf.layers.batch_normalization` is deprecated and will be removed in a future version. Please use `tf.keras.layers.BatchNormalization` instead. In particular, `tf.control_dependencies(tf.GraphKeys.UPDATE_OPS)` should not be used (consult the `tf.keras.layers.BatchNormalization` documentation).\n",
      "  '`tf.layers.batch_normalization` is deprecated and '\n",
      "/usr/local/lib/python3.7/dist-packages/tensorflow/python/keras/legacy_tf_layers/convolutional.py:1294: UserWarning: `tf.layers.conv2d_transpose` is deprecated and will be removed in a future version. Please Use `tf.keras.layers.Conv2DTranspose` instead.\n",
      "  warnings.warn('`tf.layers.conv2d_transpose` is deprecated and '\n"
     ]
    }
   ],
   "source": [
    "# building the network\n",
    "tf.reset_default_graph()\n",
    "# Noise and real data placeholder | Z = noise\n",
    "z = tf.placeholder(tf.float32, shape = [None, noise_dim])\n",
    "gen_sample = generator(noise = z)"
   ]
  },
  {
   "cell_type": "code",
   "execution_count": 74,
   "metadata": {
    "colab": {
     "base_uri": "https://localhost:8080/",
     "height": 286
    },
    "executionInfo": {
     "elapsed": 2676,
     "status": "ok",
     "timestamp": 1614513494082,
     "user": {
      "displayName": "Hrithick Sen",
      "photoUrl": "https://lh3.googleusercontent.com/a-/AOh14GgO78BmvvsC2GTIr5ugt5XInIF8BznhPlK_oUBbrw=s64",
      "userId": "12060653308348734828"
     },
     "user_tz": -330
    },
    "id": "dLh_elkK69g0",
    "outputId": "4df758b2-4678-4b61-df35-082d06dbe7a3"
   },
   "outputs": [
    {
     "name": "stdout",
     "output_type": "stream",
     "text": [
      "INFO:tensorflow:Restoring parameters from /content/drive/MyDrive/Face Generation/models/FaceGan_150epc\n"
     ]
    },
    {
     "data": {
      "image/png": "[encoded data removed]",
      "text/plain": [
       "<Figure size 432x288 with 1 Axes>"
      ]
     },
     "metadata": {
      "needs_background": "light",
      "tags": []
     },
     "output_type": "display_data"
    }
   ],
   "source": [
    "# generating a Fake face image \n",
    "init = tf.global_variables_initializer()\n",
    "saver = tf.train.Saver()\n",
    "with tf.Session() as sess:\n",
    "    sess.run(init)\n",
    "    saver.restore(sess, load_path)\n",
    "    noise = np.random.uniform(low = -1, high = 1, size = (1, noise_dim))\n",
    "    fake_image = sess.run(gen_sample, feed_dict= {z : noise}).reshape(image_height, image_width, image_channels)\n",
    "    sampled_face = (fake_image * 255).astype(np.uint8)\n",
    "    plt.imshow(sampled_face)"
   ]
  }
 ],
 "metadata": {
  "accelerator": "GPU",
  "colab": {
   "collapsed_sections": [],
   "name": "restore_model.ipynb",
   "provenance": []
  },
  "kernelspec": {
   "display_name": "Python 3",
   "language": "python",
   "name": "python3"
  },
  "language_info": {
   "codemirror_mode": {
    "name": "ipython",
    "version": 3
   },
   "file_extension": ".py",
   "mimetype": "text/x-python",
   "name": "python",
   "nbconvert_exporter": "python",
   "pygments_lexer": "ipython3",
   "version": "3.8.3"
  }
 },
 "nbformat": 4,
 "nbformat_minor": 1
}
